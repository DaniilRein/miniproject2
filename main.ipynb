{
 "cells": [
  {
   "cell_type": "code",
   "id": "initial_id",
   "metadata": {
    "collapsed": true
   },
   "source": [
    "# Find the start of every finger movement for every event - findthe minimum before\n",
    "# def find_finger_events\n",
    "\n",
    "# create the .dev file to install all packages for me!\n",
    "\n",
    "# ordered by indices to the ecog. example output ordered by the same way."
   ],
   "outputs": [],
   "execution_count": null
  },
  {
   "metadata": {},
   "cell_type": "code",
   "source": [
    "import numpy as np\n",
    "import matplotlib.pyplot as plt\n",
    "import pandas as pd\n",
    "\n",
    "# 40 same lines - 25Hz\n",
    "# each column is a finger\n",
    "finger_data = pd.read_csv('finger_data.csv')\n",
    "events_data = pd.read_csv('events_data.csv')\n",
    "brain_data = pd.read_csv('brain_data.csv')\n",
    "# turn to integers\n",
    "\n",
    "\n",
    "\n",
    "# 200ms before\n",
    "# 1ms current - the minimum\n",
    "# 1000ms\n",
    "\n",
    "# 5 graphs for each finger 1201ms long.\n",
    "\n",
    "\n",
    "\n",
    "\n",
    "\n",
    "\n",
    "\n"
   ],
   "id": "2723e065f9e68804",
   "outputs": [],
   "execution_count": null
  },
  {
   "metadata": {},
   "cell_type": "code",
   "source": "",
   "id": "d1e6f65389dda575",
   "outputs": [],
   "execution_count": null
  }
 ],
 "metadata": {
  "kernelspec": {
   "display_name": "Python 3",
   "language": "python",
   "name": "python3"
  },
  "language_info": {
   "codemirror_mode": {
    "name": "ipython",
    "version": 2
   },
   "file_extension": ".py",
   "mimetype": "text/x-python",
   "name": "python",
   "nbconvert_exporter": "python",
   "pygments_lexer": "ipython2",
   "version": "2.7.6"
  }
 },
 "nbformat": 4,
 "nbformat_minor": 5
}
